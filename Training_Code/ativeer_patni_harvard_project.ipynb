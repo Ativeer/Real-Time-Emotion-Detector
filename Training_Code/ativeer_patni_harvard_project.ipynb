{
  "nbformat": 4,
  "nbformat_minor": 0,
  "metadata": {
    "colab": {
      "name": "harvard_project.ipynb",
      "provenance": [],
      "collapsed_sections": [
        "Ek7KsDIU8TjX",
        "AI3kIIKY1VGK",
        "jHKpRoql1atl",
        "LExjrypb2137",
        "OOKGF4kW25U5",
        "B8pdsbZt3zfG",
        "mhS0zBTQPr7X",
        "us8VFE97Pzt4",
        "gtaCIu5vQAsG",
        "xXIS32fbjSTN",
        "zUgu5LeKjgRK",
        "v6vvOsMxjkmt",
        "hQZFQthITH3q",
        "eioj3BmKjtph",
        "1MmPp6Ftj7MD",
        "dbeC9lyNj-a8",
        "p9O0s2E75rry",
        "ZivLYjh0kEHp",
        "oRwR984_kIJ_",
        "OjK545bGkLFT",
        "vi1H0lKG5Zwa"
      ],
      "toc_visible": true
    },
    "kernelspec": {
      "name": "python3",
      "display_name": "Python 3"
    },
    "accelerator": "GPU"
  },
  "cells": [
    {
      "cell_type": "markdown",
      "metadata": {
        "id": "RG-Q0QEI8JDu",
        "colab_type": "text"
      },
      "source": [
        "# CSCI-S89 Harvard Introduction to Deep Learning Project"
      ]
    },
    {
      "cell_type": "markdown",
      "metadata": {
        "id": "6r1eq5bB8DUA",
        "colab_type": "text"
      },
      "source": [
        "## Emotion Detection From Live Images"
      ]
    },
    {
      "cell_type": "markdown",
      "metadata": {
        "id": "_MYZwuoG5Pnz",
        "colab_type": "text"
      },
      "source": [
        "### Preprocessing the data"
      ]
    },
    {
      "cell_type": "markdown",
      "metadata": {
        "id": "Ek7KsDIU8TjX",
        "colab_type": "text"
      },
      "source": [
        "#### Importing Libraries"
      ]
    },
    {
      "cell_type": "code",
      "metadata": {
        "id": "MiB_Cq1F1A3o",
        "colab_type": "code",
        "colab": {}
      },
      "source": [
        "import pandas as pd\n",
        "import numpy as np\n",
        "import matplotlib.pyplot as plt\n",
        "import cv2\n",
        "from tensorflow.keras.models import Sequential\n",
        "from tensorflow.keras.layers import Dense, Dropout, Flatten\n",
        "from tensorflow.keras.layers import Conv2D\n",
        "from tensorflow.keras.optimizers import Adam\n",
        "from tensorflow.keras.layers import MaxPooling2D\n",
        "from tensorflow.keras.preprocessing.image import ImageDataGenerator\n",
        "import os\n",
        "from PIL import Image\n",
        "from tqdm import tqdm\n",
        "import os\n",
        "from tensorflow.keras.applications import VGG16\n",
        "from tensorflow.keras.applications.inception_v3 import InceptionV3\n",
        "from tensorflow.keras.applications.mobilenet_v2 import MobileNetV2"
      ],
      "execution_count": 1,
      "outputs": []
    },
    {
      "cell_type": "markdown",
      "metadata": {
        "id": "AI3kIIKY1VGK",
        "colab_type": "text"
      },
      "source": [
        "#### Mounting Drive"
      ]
    },
    {
      "cell_type": "code",
      "metadata": {
        "id": "SYCigAymc3dd",
        "colab_type": "code",
        "colab": {
          "base_uri": "https://localhost:8080/",
          "height": 34
        },
        "outputId": "6153a6ee-8401-4cc2-eb9a-ab2140b59010"
      },
      "source": [
        "from google.colab import drive\n",
        "drive.mount('/content/drive')"
      ],
      "execution_count": 2,
      "outputs": [
        {
          "output_type": "stream",
          "text": [
            "Drive already mounted at /content/drive; to attempt to forcibly remount, call drive.mount(\"/content/drive\", force_remount=True).\n"
          ],
          "name": "stdout"
        }
      ]
    },
    {
      "cell_type": "code",
      "metadata": {
        "id": "QJUvQvjtc-zQ",
        "colab_type": "code",
        "colab": {
          "base_uri": "https://localhost:8080/",
          "height": 67
        },
        "outputId": "55bc07ec-661d-4626-c664-5ee69821e370"
      },
      "source": [
        "!unzip '/content/drive/My Drive/fer2013.zip'"
      ],
      "execution_count": 3,
      "outputs": [
        {
          "output_type": "stream",
          "text": [
            "Archive:  /content/drive/My Drive/fer2013.zip\n",
            "replace fer2013.csv? [y]es, [n]o, [A]ll, [N]one, [r]ename: y\n",
            "  inflating: fer2013.csv             \n"
          ],
          "name": "stdout"
        }
      ]
    },
    {
      "cell_type": "markdown",
      "metadata": {
        "id": "jHKpRoql1atl",
        "colab_type": "text"
      },
      "source": [
        "#### Reading Dataset.\n",
        "A full comprehensible emotion dataset can be found [here](https://www.kaggle.com/deadskull7/fer2013)\n",
        "\n",
        "Once you download the dataset, please put it in a zip folder inside your google-drive.\n",
        "\n",
        "Using the above command, you can unzip the file and store it in colab memory."
      ]
    },
    {
      "cell_type": "code",
      "metadata": {
        "id": "32SQzJsTc-2e",
        "colab_type": "code",
        "colab": {}
      },
      "source": [
        "df = pd.read_csv('fer2013.csv')"
      ],
      "execution_count": 4,
      "outputs": []
    },
    {
      "cell_type": "markdown",
      "metadata": {
        "id": "LExjrypb2137",
        "colab_type": "text"
      },
      "source": [
        "##### About the Dataset"
      ]
    },
    {
      "cell_type": "markdown",
      "metadata": {
        "id": "iairCf2h1y4e",
        "colab_type": "text"
      },
      "source": [
        "The dataset has 3 columns, emotion ID, pixels of the image and usage of each image (Train or test)\n",
        "\n",
        "Emotion ID\n",
        "\n",
        "1: Angry\n",
        "\n",
        "2: Disgusted\n",
        "\n",
        "3: Fearful\n",
        "\n",
        "4: Happy\n",
        "\n",
        "5: Sad\n",
        "\n",
        "6: Surprised\n",
        "\n",
        "7: Neutral"
      ]
    },
    {
      "cell_type": "code",
      "metadata": {
        "id": "rbiE8Ce2c-v8",
        "colab_type": "code",
        "colab": {
          "base_uri": "https://localhost:8080/",
          "height": 195
        },
        "outputId": "becf1f8d-7ce0-46c3-a190-49b3ecb22b54"
      },
      "source": [
        "df.head()"
      ],
      "execution_count": 5,
      "outputs": [
        {
          "output_type": "execute_result",
          "data": {
            "text/html": [
              "<div>\n",
              "<style scoped>\n",
              "    .dataframe tbody tr th:only-of-type {\n",
              "        vertical-align: middle;\n",
              "    }\n",
              "\n",
              "    .dataframe tbody tr th {\n",
              "        vertical-align: top;\n",
              "    }\n",
              "\n",
              "    .dataframe thead th {\n",
              "        text-align: right;\n",
              "    }\n",
              "</style>\n",
              "<table border=\"1\" class=\"dataframe\">\n",
              "  <thead>\n",
              "    <tr style=\"text-align: right;\">\n",
              "      <th></th>\n",
              "      <th>emotion</th>\n",
              "      <th>pixels</th>\n",
              "      <th>Usage</th>\n",
              "    </tr>\n",
              "  </thead>\n",
              "  <tbody>\n",
              "    <tr>\n",
              "      <th>0</th>\n",
              "      <td>0</td>\n",
              "      <td>70 80 82 72 58 58 60 63 54 58 60 48 89 115 121...</td>\n",
              "      <td>Training</td>\n",
              "    </tr>\n",
              "    <tr>\n",
              "      <th>1</th>\n",
              "      <td>0</td>\n",
              "      <td>151 150 147 155 148 133 111 140 170 174 182 15...</td>\n",
              "      <td>Training</td>\n",
              "    </tr>\n",
              "    <tr>\n",
              "      <th>2</th>\n",
              "      <td>2</td>\n",
              "      <td>231 212 156 164 174 138 161 173 182 200 106 38...</td>\n",
              "      <td>Training</td>\n",
              "    </tr>\n",
              "    <tr>\n",
              "      <th>3</th>\n",
              "      <td>4</td>\n",
              "      <td>24 32 36 30 32 23 19 20 30 41 21 22 32 34 21 1...</td>\n",
              "      <td>Training</td>\n",
              "    </tr>\n",
              "    <tr>\n",
              "      <th>4</th>\n",
              "      <td>6</td>\n",
              "      <td>4 0 0 0 0 0 0 0 0 0 0 0 3 15 23 28 48 50 58 84...</td>\n",
              "      <td>Training</td>\n",
              "    </tr>\n",
              "  </tbody>\n",
              "</table>\n",
              "</div>"
            ],
            "text/plain": [
              "   emotion                                             pixels     Usage\n",
              "0        0  70 80 82 72 58 58 60 63 54 58 60 48 89 115 121...  Training\n",
              "1        0  151 150 147 155 148 133 111 140 170 174 182 15...  Training\n",
              "2        2  231 212 156 164 174 138 161 173 182 200 106 38...  Training\n",
              "3        4  24 32 36 30 32 23 19 20 30 41 21 22 32 34 21 1...  Training\n",
              "4        6  4 0 0 0 0 0 0 0 0 0 0 0 3 15 23 28 48 50 58 84...  Training"
            ]
          },
          "metadata": {
            "tags": []
          },
          "execution_count": 5
        }
      ]
    },
    {
      "cell_type": "markdown",
      "metadata": {
        "id": "OOKGF4kW25U5",
        "colab_type": "text"
      },
      "source": [
        "#### Folder Structure\n",
        "Separating each image to its respective folders"
      ]
    },
    {
      "cell_type": "code",
      "metadata": {
        "id": "FvCIXWNXmCB4",
        "colab_type": "code",
        "colab": {}
      },
      "source": [
        "# convert string to integer\n",
        "def atoi(s):\n",
        "    n = 0\n",
        "    for i in s:\n",
        "        n = n*10 + ord(i) - ord(\"0\")\n",
        "    return n"
      ],
      "execution_count": 6,
      "outputs": []
    },
    {
      "cell_type": "code",
      "metadata": {
        "id": "qEYoKODdmCZN",
        "colab_type": "code",
        "colab": {}
      },
      "source": [
        "outer_names = ['test','train']\n",
        "inner_names = ['angry', 'disgusted', 'fearful', 'happy', 'sad', 'surprised', 'neutral']\n",
        "os.makedirs('data', exist_ok=True)\n",
        "for outer_name in outer_names:\n",
        "    os.makedirs(os.path.join('data',outer_name), exist_ok=True)\n",
        "    for inner_name in inner_names:\n",
        "        os.makedirs(os.path.join('data',outer_name,inner_name), exist_ok=True)"
      ],
      "execution_count": 7,
      "outputs": []
    },
    {
      "cell_type": "code",
      "metadata": {
        "id": "K6pHhz7AmChw",
        "colab_type": "code",
        "colab": {}
      },
      "source": [
        "# to keep count of each category\n",
        "angry = 0\n",
        "disgusted = 0\n",
        "fearful = 0\n",
        "happy = 0\n",
        "sad = 0\n",
        "surprised = 0\n",
        "neutral = 0\n",
        "angry_test = 0\n",
        "disgusted_test = 0\n",
        "fearful_test = 0\n",
        "happy_test = 0\n",
        "sad_test = 0\n",
        "surprised_test = 0\n",
        "neutral_test = 0"
      ],
      "execution_count": 8,
      "outputs": []
    },
    {
      "cell_type": "code",
      "metadata": {
        "id": "3XT3rjjomCwD",
        "colab_type": "code",
        "colab": {
          "base_uri": "https://localhost:8080/",
          "height": 34
        },
        "outputId": "de50f7b2-99d3-46af-daea-d223d8ea9e19"
      },
      "source": [
        "mat = np.zeros((48,48),dtype=np.uint8)\n",
        "print(\"Saving images...\")"
      ],
      "execution_count": 9,
      "outputs": [
        {
          "output_type": "stream",
          "text": [
            "Saving images...\n"
          ],
          "name": "stdout"
        }
      ]
    },
    {
      "cell_type": "code",
      "metadata": {
        "id": "AU0cJ97HmCdC",
        "colab_type": "code",
        "colab": {}
      },
      "source": [
        "os.chdir(\"data\")"
      ],
      "execution_count": 10,
      "outputs": []
    },
    {
      "cell_type": "code",
      "metadata": {
        "id": "P1WWX_HXmCGd",
        "colab_type": "code",
        "colab": {
          "base_uri": "https://localhost:8080/",
          "height": 50
        },
        "outputId": "422d6b5c-2353-4a88-bd68-416ccd837d90"
      },
      "source": [
        "# read the csv file line by line\n",
        "for i in tqdm(range(len(df))):\n",
        "    txt = df['pixels'][i]\n",
        "    words = txt.split()\n",
        "    \n",
        "    # the image size is 48x48\n",
        "    for j in range(2304):\n",
        "        xind = j // 48\n",
        "        yind = j % 48\n",
        "        mat[xind][yind] = atoi(words[j])\n",
        "\n",
        "    img = Image.fromarray(mat)\n",
        "\n",
        "    # train\n",
        "    if i < 28709:\n",
        "        if df['emotion'][i] == 0:\n",
        "            img.save('train/angry/im'+str(angry)+'.png')\n",
        "            angry += 1\n",
        "        elif df['emotion'][i] == 1:\n",
        "            img.save('train/disgusted/im'+str(disgusted)+'.png')\n",
        "            disgusted += 1\n",
        "        elif df['emotion'][i] == 2:\n",
        "            img.save('train/fearful/im'+str(fearful)+'.png')\n",
        "            fearful += 1\n",
        "        elif df['emotion'][i] == 3:\n",
        "            img.save('train/happy/im'+str(happy)+'.png')\n",
        "            happy += 1\n",
        "        elif df['emotion'][i] == 4:\n",
        "            img.save('train/sad/im'+str(sad)+'.png')\n",
        "            sad += 1\n",
        "        elif df['emotion'][i] == 5:\n",
        "            img.save('train/surprised/im'+str(surprised)+'.png')\n",
        "            surprised += 1\n",
        "        elif df['emotion'][i] == 6:\n",
        "            img.save('train/neutral/im'+str(neutral)+'.png')\n",
        "            neutral += 1\n",
        "\n",
        "    # test\n",
        "    else:\n",
        "        if df['emotion'][i] == 0:\n",
        "            img.save('test/angry/im'+str(angry_test)+'.png')\n",
        "            angry_test += 1\n",
        "        elif df['emotion'][i] == 1:\n",
        "            img.save('test/disgusted/im'+str(disgusted_test)+'.png')\n",
        "            disgusted_test += 1\n",
        "        elif df['emotion'][i] == 2:\n",
        "            img.save('test/fearful/im'+str(fearful_test)+'.png')\n",
        "            fearful_test += 1\n",
        "        elif df['emotion'][i] == 3:\n",
        "            img.save('test/happy/im'+str(happy_test)+'.png')\n",
        "            happy_test += 1\n",
        "        elif df['emotion'][i] == 4:\n",
        "            img.save('test/sad/im'+str(sad_test)+'.png')\n",
        "            sad_test += 1\n",
        "        elif df['emotion'][i] == 5:\n",
        "            img.save('test/surprised/im'+str(surprised_test)+'.png')\n",
        "            surprised_test += 1\n",
        "        elif df['emotion'][i] == 6:\n",
        "            img.save('test/neutral/im'+str(neutral_test)+'.png')\n",
        "            neutral_test += 1\n",
        "\n",
        "print(\"Done!\")"
      ],
      "execution_count": 11,
      "outputs": [
        {
          "output_type": "stream",
          "text": [
            "100%|██████████| 35887/35887 [01:57<00:00, 304.31it/s]"
          ],
          "name": "stderr"
        },
        {
          "output_type": "stream",
          "text": [
            "Done!\n"
          ],
          "name": "stdout"
        },
        {
          "output_type": "stream",
          "text": [
            "\n"
          ],
          "name": "stderr"
        }
      ]
    },
    {
      "cell_type": "markdown",
      "metadata": {
        "id": "B8pdsbZt3zfG",
        "colab_type": "text"
      },
      "source": [
        "#### Plot Function"
      ]
    },
    {
      "cell_type": "code",
      "metadata": {
        "id": "CFz6Brlu8mOW",
        "colab_type": "code",
        "colab": {}
      },
      "source": [
        "# Filtering out any errors\n",
        "os.environ['TF_CPP_MIN_LOG_LEVEL'] = '2'"
      ],
      "execution_count": 12,
      "outputs": []
    },
    {
      "cell_type": "code",
      "metadata": {
        "id": "wLy-_inP9K_m",
        "colab_type": "code",
        "colab": {}
      },
      "source": [
        "def plot_model_history(model_history):\n",
        "    \"\"\"\n",
        "    Plot Accuracy and Loss curves given the model_history\n",
        "    \"\"\"\n",
        "    fig, axs = plt.subplots(1,2,figsize=(15,5))\n",
        "    # summarize history for accuracy\n",
        "    axs[0].plot(range(1,len(model_history.history['accuracy'])+1),model_history.history['accuracy'])\n",
        "    axs[0].plot(range(1,len(model_history.history['val_accuracy'])+1),model_history.history['val_accuracy'])\n",
        "    axs[0].set_title('Model Accuracy')\n",
        "    axs[0].set_ylabel('Accuracy')\n",
        "    axs[0].set_xlabel('Epoch')\n",
        "    axs[0].set_xticks(np.arange(1,len(model_history.history['accuracy'])+1),len(model_history.history['accuracy'])/10)\n",
        "    axs[0].legend(['train', 'val'], loc='best')\n",
        "    # summarize history for loss\n",
        "    axs[1].plot(range(1,len(model_history.history['loss'])+1),model_history.history['loss'])\n",
        "    axs[1].plot(range(1,len(model_history.history['val_loss'])+1),model_history.history['val_loss'])\n",
        "    axs[1].set_title('Model Loss')\n",
        "    axs[1].set_ylabel('Loss')\n",
        "    axs[1].set_xlabel('Epoch')\n",
        "    axs[1].set_xticks(np.arange(1,len(model_history.history['loss'])+1),len(model_history.history['loss'])/10)\n",
        "    axs[1].legend(['train', 'val'], loc='best')\n",
        "    fig.savefig('plot.png')\n",
        "    plt.show()"
      ],
      "execution_count": 13,
      "outputs": []
    },
    {
      "cell_type": "code",
      "metadata": {
        "id": "kOqWfiBo90HB",
        "colab_type": "code",
        "colab": {}
      },
      "source": [
        "train_dir = 'train'\n",
        "val_dir = 'test'"
      ],
      "execution_count": 14,
      "outputs": []
    },
    {
      "cell_type": "code",
      "metadata": {
        "id": "LNS3Swx5oluh",
        "colab_type": "code",
        "colab": {}
      },
      "source": [
        "num_train = 28709\n",
        "num_val = 7178\n",
        "batch_size = 64\n",
        "num_epoch = 50"
      ],
      "execution_count": 15,
      "outputs": []
    },
    {
      "cell_type": "markdown",
      "metadata": {
        "id": "mhS0zBTQPr7X",
        "colab_type": "text"
      },
      "source": [
        "#### Image Generator"
      ]
    },
    {
      "cell_type": "code",
      "metadata": {
        "id": "OucSJGlDS7Ur",
        "colab_type": "code",
        "colab": {}
      },
      "source": [
        "train_datagen = ImageDataGenerator(rescale=1./255)\n",
        "val_datagen = ImageDataGenerator(rescale=1./255)"
      ],
      "execution_count": 16,
      "outputs": []
    },
    {
      "cell_type": "markdown",
      "metadata": {
        "id": "us8VFE97Pzt4",
        "colab_type": "text"
      },
      "source": [
        "##### GrayScale"
      ]
    },
    {
      "cell_type": "code",
      "metadata": {
        "id": "MCzqsq8UooGz",
        "colab_type": "code",
        "colab": {
          "base_uri": "https://localhost:8080/",
          "height": 50
        },
        "outputId": "81eef231-2697-4ec9-a92f-a0cf2bfa216d"
      },
      "source": [
        "train_generator_gray = train_datagen.flow_from_directory(\n",
        "        train_dir,\n",
        "        target_size=(48,48),\n",
        "        batch_size=batch_size,\n",
        "        color_mode=\"grayscale\",\n",
        "        class_mode='categorical')\n",
        "\n",
        "validation_generator_gray = val_datagen.flow_from_directory(\n",
        "        val_dir,\n",
        "        target_size=(48,48),\n",
        "        batch_size=batch_size,\n",
        "        color_mode=\"grayscale\",\n",
        "        class_mode='categorical')"
      ],
      "execution_count": 17,
      "outputs": [
        {
          "output_type": "stream",
          "text": [
            "Found 28709 images belonging to 7 classes.\n",
            "Found 7178 images belonging to 7 classes.\n"
          ],
          "name": "stdout"
        }
      ]
    },
    {
      "cell_type": "markdown",
      "metadata": {
        "id": "gtaCIu5vQAsG",
        "colab_type": "text"
      },
      "source": [
        "##### Color Scale"
      ]
    },
    {
      "cell_type": "code",
      "metadata": {
        "id": "97SnkosjtyBh",
        "colab_type": "code",
        "colab": {
          "base_uri": "https://localhost:8080/",
          "height": 50
        },
        "outputId": "058ed987-dbff-48da-9827-fb7c8b7ebf4d"
      },
      "source": [
        "train_generator_color = train_datagen.flow_from_directory(\n",
        "        train_dir,\n",
        "        target_size=(48,48),\n",
        "        batch_size=batch_size,\n",
        "        class_mode='categorical')\n",
        "\n",
        "validation_generator_color = val_datagen.flow_from_directory(\n",
        "        val_dir,\n",
        "        target_size=(48,48),\n",
        "        batch_size=batch_size,\n",
        "        class_mode='categorical')"
      ],
      "execution_count": 18,
      "outputs": [
        {
          "output_type": "stream",
          "text": [
            "Found 28709 images belonging to 7 classes.\n",
            "Found 7178 images belonging to 7 classes.\n"
          ],
          "name": "stdout"
        }
      ]
    },
    {
      "cell_type": "markdown",
      "metadata": {
        "id": "fwPyeqeq5IZt",
        "colab_type": "text"
      },
      "source": [
        "### Model Creation"
      ]
    },
    {
      "cell_type": "markdown",
      "metadata": {
        "id": "jlD3tOwWyekf",
        "colab_type": "text"
      },
      "source": [
        "#### Mobile Net V2\n",
        "\n",
        "Usig Mobile Net V2 Pretrained Model\n",
        "\n",
        "A family of general purpose computer vision neural networks designed with mobile devices in mind to support classification, detection and more.\n",
        "\n",
        "Architecture:"
      ]
    },
    {
      "cell_type": "code",
      "metadata": {
        "id": "mBBqamRzHmyQ",
        "colab_type": "code",
        "colab": {
          "base_uri": "https://localhost:8080/",
          "height": 54
        },
        "outputId": "c2f659b3-20e7-4f63-fbed-78838d2789e7"
      },
      "source": [
        "mv2_base_2 = MobileNetV2 (\n",
        "   input_shape = (48, 48, 3), \n",
        "   alpha = 1.0, \n",
        "   include_top = False, \n",
        "   weights = 'imagenet', \n",
        "   input_tensor = None, \n",
        "   pooling = None, \n",
        "   classes = 1000,\n",
        ")"
      ],
      "execution_count": 19,
      "outputs": [
        {
          "output_type": "stream",
          "text": [
            "WARNING:tensorflow:`input_shape` is undefined or non-square, or `rows` is not in [96, 128, 160, 192, 224]. Weights for input shape (224, 224) will be loaded as the default.\n"
          ],
          "name": "stdout"
        }
      ]
    },
    {
      "cell_type": "code",
      "metadata": {
        "id": "_1Uj6r4gHoNr",
        "colab_type": "code",
        "colab": {}
      },
      "source": [
        "model = Sequential()\n",
        "model.add(mv2_base_2)\n",
        "model.add(Flatten())\n",
        "model.add(Dense(256, activation='relu'))\n",
        "model.add(Dense(7, activation='softmax'))\n",
        "\n",
        "model.summary()"
      ],
      "execution_count": null,
      "outputs": []
    },
    {
      "cell_type": "code",
      "metadata": {
        "id": "DX8dpi2LHwpF",
        "colab_type": "code",
        "colab": {}
      },
      "source": [
        "model.compile(loss='categorical_crossentropy',optimizer=Adam(lr=0.0001, decay=1e-6),metrics=['accuracy'])\n",
        "model_info = model.fit_generator(\n",
        "        train_generator_color,\n",
        "        steps_per_epoch=num_train // batch_size,\n",
        "        epochs=num_epoch,\n",
        "        validation_data=validation_generator_color,\n",
        "        validation_steps=num_val // batch_size)"
      ],
      "execution_count": null,
      "outputs": []
    },
    {
      "cell_type": "markdown",
      "metadata": {
        "id": "xXIS32fbjSTN",
        "colab_type": "text"
      },
      "source": [
        "##### Test vs Validation accuracy and loss; Confusion Matrix"
      ]
    },
    {
      "cell_type": "markdown",
      "metadata": {
        "id": "zUgu5LeKjgRK",
        "colab_type": "text"
      },
      "source": [
        "###### Graphs"
      ]
    },
    {
      "cell_type": "code",
      "metadata": {
        "id": "TQImQ169THGI",
        "colab_type": "code",
        "colab": {
          "base_uri": "https://localhost:8080/",
          "height": 421
        },
        "outputId": "68296d7e-2540-47b9-b515-f5d38a6dc317"
      },
      "source": [
        "plot_model_history(model_info)"
      ],
      "execution_count": 22,
      "outputs": [
        {
          "output_type": "stream",
          "text": [
            "/usr/local/lib/python3.6/dist-packages/ipykernel_launcher.py:12: MatplotlibDeprecationWarning: Passing the minor parameter of set_xticks() positionally is deprecated since Matplotlib 3.2; the parameter will become keyword-only two minor releases later.\n",
            "  if sys.path[0] == '':\n",
            "/usr/local/lib/python3.6/dist-packages/ipykernel_launcher.py:20: MatplotlibDeprecationWarning: Passing the minor parameter of set_xticks() positionally is deprecated since Matplotlib 3.2; the parameter will become keyword-only two minor releases later.\n"
          ],
          "name": "stderr"
        },
        {
          "output_type": "display_data",
          "data": {
            "image/png": "[encoded data removed]",
            "text/plain": [
              "<Figure size 1080x360 with 2 Axes>"
            ]
          },
          "metadata": {
            "tags": [],
            "needs_background": "light"
          }
        }
      ]
    },
    {
      "cell_type": "markdown",
      "metadata": {
        "id": "v6vvOsMxjkmt",
        "colab_type": "text"
      },
      "source": [
        "###### Confusion Matrix"
      ]
    },
    {
      "cell_type": "code",
      "metadata": {
        "id": "8GsHHtv6B19f",
        "colab_type": "code",
        "colab": {
          "base_uri": "https://localhost:8080/",
          "height": 87
        },
        "outputId": "98d5943a-b90e-4811-df6c-5b72c38d9b59"
      },
      "source": [
        "from tensorflow.math import confusion_matrix\n",
        "emoji_pred = model.predict_generator(validation_generator_color, num_val // batch_size+1)"
      ],
      "execution_count": 24,
      "outputs": [
        {
          "output_type": "stream",
          "text": [
            "WARNING:tensorflow:From <ipython-input-24-281c2b18c982>:2: Model.predict_generator (from tensorflow.python.keras.engine.training) is deprecated and will be removed in a future version.\n",
            "Instructions for updating:\n",
            "Please use Model.predict, which supports generators.\n"
          ],
          "name": "stdout"
        }
      ]
    },
    {
      "cell_type": "code",
      "metadata": {
        "id": "l3ynIlJYCHIh",
        "colab_type": "code",
        "colab": {}
      },
      "source": [
        "con_mat = confusion_matrix(validation_generator_color.classes, np.argmax(emoji_pred, axis=1)).numpy()"
      ],
      "execution_count": 28,
      "outputs": []
    },
    {
      "cell_type": "code",
      "metadata": {
        "id": "BDhVHWGgDPwa",
        "colab_type": "code",
        "colab": {}
      },
      "source": [
        "con_mat_norm = np.around(con_mat.astype('float') / con_mat.sum(axis=1)[:, np.newaxis], decimals=2)\n",
        " \n",
        "con_mat_df = pd.DataFrame(con_mat_norm,\n",
        "                     index = inner_names, \n",
        "                     columns = inner_names)"
      ],
      "execution_count": 30,
      "outputs": []
    },
    {
      "cell_type": "code",
      "metadata": {
        "id": "jHZ7nQHEDP1L",
        "colab_type": "code",
        "colab": {
          "base_uri": "https://localhost:8080/",
          "height": 653
        },
        "outputId": "83662420-aaf9-4b65-e9d3-1a88c118c6f3"
      },
      "source": [
        "import seaborn as sns\n",
        "figure = plt.figure(figsize=(8, 8))\n",
        "sns.heatmap(con_mat_df, annot=True,cmap=plt.cm.Blues)\n",
        "plt.tight_layout()\n",
        "plt.ylabel('True label')\n",
        "plt.xlabel('Predicted label')\n",
        "plt.show()"
      ],
      "execution_count": 31,
      "outputs": [
        {
          "output_type": "stream",
          "text": [
            "/usr/local/lib/python3.6/dist-packages/statsmodels/tools/_testing.py:19: FutureWarning: pandas.util.testing is deprecated. Use the functions in the public API at pandas.testing instead.\n",
            "  import pandas.util.testing as tm\n"
          ],
          "name": "stderr"
        },
        {
          "output_type": "display_data",
          "data": {
            "image/png": "[encoded data removed]",
            "text/plain": [
              "<Figure size 576x576 with 2 Axes>"
            ]
          },
          "metadata": {
            "tags": [],
            "needs_background": "light"
          }
        }
      ]
    },
    {
      "cell_type": "markdown",
      "metadata": {
        "id": "hQZFQthITH3q",
        "colab_type": "text"
      },
      "source": [
        "##### Saving Model"
      ]
    },
    {
      "cell_type": "code",
      "metadata": {
        "id": "E_UJGMYs5IC0",
        "colab_type": "code",
        "colab": {}
      },
      "source": [
        "model.save_weights('/content/drive/My Drive/data/mobilenet_model.h5')"
      ],
      "execution_count": 32,
      "outputs": []
    },
    {
      "cell_type": "code",
      "metadata": {
        "id": "Kyzv1E-V-wwG",
        "colab_type": "code",
        "colab": {}
      },
      "source": [
        "model_json = model.to_json()\n",
        "with open(\"/content/drive/My Drive/data/mobilenet_model.json\", \"w\") as json_file:\n",
        "    json_file.write(model_json)"
      ],
      "execution_count": 33,
      "outputs": []
    },
    {
      "cell_type": "code",
      "metadata": {
        "id": "16EUfYPhH1yq",
        "colab_type": "code",
        "colab": {}
      },
      "source": [
        ""
      ],
      "execution_count": 33,
      "outputs": []
    },
    {
      "cell_type": "markdown",
      "metadata": {
        "id": "HEI1Szhf5jlc",
        "colab_type": "text"
      },
      "source": [
        "#### VGG16"
      ]
    },
    {
      "cell_type": "code",
      "metadata": {
        "id": "966FamQUrbiW",
        "colab_type": "code",
        "colab": {}
      },
      "source": [
        "conv_base = VGG16(weights='imagenet',include_top=False, input_shape=(48, 48, 3))"
      ],
      "execution_count": 34,
      "outputs": []
    },
    {
      "cell_type": "code",
      "metadata": {
        "id": "Fi1gI4fqr2-d",
        "colab_type": "code",
        "colab": {}
      },
      "source": [
        "conv_base.summary()"
      ],
      "execution_count": null,
      "outputs": []
    },
    {
      "cell_type": "code",
      "metadata": {
        "id": "bDtRVP0ksbro",
        "colab_type": "code",
        "colab": {}
      },
      "source": [
        "model = Sequential()\n",
        "model.add(conv_base)\n",
        "model.add(Flatten())\n",
        "model.add(Dense(256, activation='relu'))\n",
        "model.add(Dense(7, activation='softmax'))\n",
        "\n",
        "model.summary()"
      ],
      "execution_count": null,
      "outputs": []
    },
    {
      "cell_type": "code",
      "metadata": {
        "id": "QZXei2dzs2zX",
        "colab_type": "code",
        "colab": {}
      },
      "source": [
        "model.compile(loss='categorical_crossentropy',optimizer=Adam(lr=0.0001, decay=1e-6),metrics=['accuracy'])\n",
        "model_info = model.fit_generator(\n",
        "        train_generator_color,\n",
        "        steps_per_epoch=num_train // batch_size,\n",
        "        epochs=num_epoch,\n",
        "        validation_data=validation_generator_color,\n",
        "        validation_steps=num_val // batch_size)"
      ],
      "execution_count": null,
      "outputs": []
    },
    {
      "cell_type": "markdown",
      "metadata": {
        "id": "eioj3BmKjtph",
        "colab_type": "text"
      },
      "source": [
        "##### Test vs Validation Accuracy adn Loss; Confusion Matrix"
      ]
    },
    {
      "cell_type": "markdown",
      "metadata": {
        "id": "1MmPp6Ftj7MD",
        "colab_type": "text"
      },
      "source": [
        "###### Graphs"
      ]
    },
    {
      "cell_type": "code",
      "metadata": {
        "id": "zRV4ZzORTpOC",
        "colab_type": "code",
        "colab": {
          "base_uri": "https://localhost:8080/",
          "height": 421
        },
        "outputId": "8a0efe81-7888-46c8-c643-b94f6dde754f"
      },
      "source": [
        "plot_model_history(model_info)"
      ],
      "execution_count": 38,
      "outputs": [
        {
          "output_type": "stream",
          "text": [
            "/usr/local/lib/python3.6/dist-packages/ipykernel_launcher.py:12: MatplotlibDeprecationWarning: Passing the minor parameter of set_xticks() positionally is deprecated since Matplotlib 3.2; the parameter will become keyword-only two minor releases later.\n",
            "  if sys.path[0] == '':\n",
            "/usr/local/lib/python3.6/dist-packages/ipykernel_launcher.py:20: MatplotlibDeprecationWarning: Passing the minor parameter of set_xticks() positionally is deprecated since Matplotlib 3.2; the parameter will become keyword-only two minor releases later.\n"
          ],
          "name": "stderr"
        },
        {
          "output_type": "display_data",
          "data": {
            "image/png": "[encoded data removed]",
            "text/plain": [
              "<Figure size 1080x360 with 2 Axes>"
            ]
          },
          "metadata": {
            "tags": [],
            "needs_background": "light"
          }
        }
      ]
    },
    {
      "cell_type": "markdown",
      "metadata": {
        "id": "dbeC9lyNj-a8",
        "colab_type": "text"
      },
      "source": [
        "###### Confusion Matrix"
      ]
    },
    {
      "cell_type": "code",
      "metadata": {
        "id": "LdcwCxikSicU",
        "colab_type": "code",
        "colab": {}
      },
      "source": [
        "emoji_pred = model.predict_generator(validation_generator_color, num_val // batch_size+1)\n",
        "con_mat = confusion_matrix(validation_generator_color.classes, np.argmax(emoji_pred, axis=1)).numpy()\n",
        "con_mat_norm = np.around(con_mat.astype('float') / con_mat.sum(axis=1)[:, np.newaxis], decimals=2)\n",
        " \n",
        "con_mat_df = pd.DataFrame(con_mat_norm,\n",
        "                     index = inner_names, \n",
        "                     columns = inner_names)"
      ],
      "execution_count": 39,
      "outputs": []
    },
    {
      "cell_type": "code",
      "metadata": {
        "id": "Nki344jwSsvL",
        "colab_type": "code",
        "colab": {
          "base_uri": "https://localhost:8080/",
          "height": 599
        },
        "outputId": "8241a22f-6b08-4655-c703-362a479962df"
      },
      "source": [
        "figure = plt.figure(figsize=(8, 8))\n",
        "sns.heatmap(con_mat_df, annot=True,cmap=plt.cm.Blues)\n",
        "plt.tight_layout()\n",
        "plt.ylabel('True label')\n",
        "plt.xlabel('Predicted label')\n",
        "plt.show()"
      ],
      "execution_count": 40,
      "outputs": [
        {
          "output_type": "display_data",
          "data": {
            "image/png": "[encoded data removed]",
            "text/plain": [
              "<Figure size 576x576 with 2 Axes>"
            ]
          },
          "metadata": {
            "tags": [],
            "needs_background": "light"
          }
        }
      ]
    },
    {
      "cell_type": "markdown",
      "metadata": {
        "id": "p9O0s2E75rry",
        "colab_type": "text"
      },
      "source": [
        "##### Saving the Model"
      ]
    },
    {
      "cell_type": "code",
      "metadata": {
        "id": "S9eudhXctF1L",
        "colab_type": "code",
        "colab": {}
      },
      "source": [
        "model.save_weights('/content/drive/My Drive/data/vgg_model.h5')"
      ],
      "execution_count": 41,
      "outputs": []
    },
    {
      "cell_type": "code",
      "metadata": {
        "id": "LoWNnwaqxyws",
        "colab_type": "code",
        "colab": {}
      },
      "source": [
        "model_json = model.to_json()\n",
        "with open(\"/content/drive/My Drive/data/vgg_model.json\", \"w\") as json_file:\n",
        "    json_file.write(model_json)"
      ],
      "execution_count": 42,
      "outputs": []
    },
    {
      "cell_type": "code",
      "metadata": {
        "id": "x7j33gPZx-Ez",
        "colab_type": "code",
        "colab": {}
      },
      "source": [
        ""
      ],
      "execution_count": null,
      "outputs": []
    },
    {
      "cell_type": "markdown",
      "metadata": {
        "id": "H8ZpyzZ65UQN",
        "colab_type": "text"
      },
      "source": [
        "#### Normal CNN"
      ]
    },
    {
      "cell_type": "code",
      "metadata": {
        "id": "fsOh51FUorpH",
        "colab_type": "code",
        "colab": {}
      },
      "source": [
        "# Create the model\n",
        "model = Sequential()\n",
        "\n",
        "model.add(Conv2D(32, kernel_size=(3, 3), activation='relu', input_shape=(48,48,1)))\n",
        "model.add(Conv2D(64, kernel_size=(3, 3), activation='relu'))\n",
        "model.add(MaxPooling2D(pool_size=(2, 2)))\n",
        "model.add(Dropout(0.25))\n",
        "\n",
        "model.add(Conv2D(128, kernel_size=(3, 3), activation='relu'))\n",
        "model.add(MaxPooling2D(pool_size=(2, 2)))\n",
        "model.add(Conv2D(128, kernel_size=(3, 3), activation='relu'))\n",
        "model.add(MaxPooling2D(pool_size=(2, 2)))\n",
        "model.add(Dropout(0.25))\n",
        "\n",
        "model.add(Flatten())\n",
        "model.add(Dense(1024, activation='relu'))\n",
        "model.add(Dropout(0.5))\n",
        "model.add(Dense(7, activation='softmax'))"
      ],
      "execution_count": 43,
      "outputs": []
    },
    {
      "cell_type": "code",
      "metadata": {
        "id": "iX7AAzY-foMw",
        "colab_type": "code",
        "colab": {}
      },
      "source": [
        "model.summary()"
      ],
      "execution_count": null,
      "outputs": []
    },
    {
      "cell_type": "code",
      "metadata": {
        "id": "4k3WZh2PouX4",
        "colab_type": "code",
        "colab": {}
      },
      "source": [
        "model.compile(loss='categorical_crossentropy',optimizer=Adam(lr=0.0001, decay=1e-6),metrics=['accuracy'])\n",
        "model_info = model.fit_generator(\n",
        "        train_generator_gray,\n",
        "        steps_per_epoch=num_train // batch_size,\n",
        "        epochs=num_epoch,\n",
        "        validation_data=validation_generator_gray,\n",
        "        validation_steps=num_val // batch_size)"
      ],
      "execution_count": null,
      "outputs": []
    },
    {
      "cell_type": "markdown",
      "metadata": {
        "id": "ZivLYjh0kEHp",
        "colab_type": "text"
      },
      "source": [
        "##### Test vs Validation Accuracy and Loss; Confusion Matrix"
      ]
    },
    {
      "cell_type": "markdown",
      "metadata": {
        "id": "oRwR984_kIJ_",
        "colab_type": "text"
      },
      "source": [
        "###### Graphs"
      ]
    },
    {
      "cell_type": "code",
      "metadata": {
        "id": "MGf4AmRMTvut",
        "colab_type": "code",
        "colab": {
          "base_uri": "https://localhost:8080/",
          "height": 421
        },
        "outputId": "094bbbe2-4ab2-4d79-d641-77880e6f243d"
      },
      "source": [
        "plot_model_history(model_info)"
      ],
      "execution_count": 45,
      "outputs": [
        {
          "output_type": "stream",
          "text": [
            "/usr/local/lib/python3.6/dist-packages/ipykernel_launcher.py:12: MatplotlibDeprecationWarning: Passing the minor parameter of set_xticks() positionally is deprecated since Matplotlib 3.2; the parameter will become keyword-only two minor releases later.\n",
            "  if sys.path[0] == '':\n",
            "/usr/local/lib/python3.6/dist-packages/ipykernel_launcher.py:20: MatplotlibDeprecationWarning: Passing the minor parameter of set_xticks() positionally is deprecated since Matplotlib 3.2; the parameter will become keyword-only two minor releases later.\n"
          ],
          "name": "stderr"
        },
        {
          "output_type": "display_data",
          "data": {
            "image/png": "[encoded data removed]",
            "text/plain": [
              "<Figure size 1080x360 with 2 Axes>"
            ]
          },
          "metadata": {
            "tags": [],
            "needs_background": "light"
          }
        }
      ]
    },
    {
      "cell_type": "markdown",
      "metadata": {
        "id": "OjK545bGkLFT",
        "colab_type": "text"
      },
      "source": [
        "###### Confusion Matrix"
      ]
    },
    {
      "cell_type": "code",
      "metadata": {
        "id": "klJxVAqzWNoR",
        "colab_type": "code",
        "colab": {}
      },
      "source": [
        "emoji_pred = model.predict_generator(validation_generator_gray, num_val // batch_size+1)\n",
        "con_mat = confusion_matrix(validation_generator_gray.classes, np.argmax(emoji_pred, axis=1)).numpy()\n",
        "con_mat_norm = np.around(con_mat.astype('float') / con_mat.sum(axis=1)[:, np.newaxis], decimals=2)\n",
        " \n",
        "con_mat_df = pd.DataFrame(con_mat_norm,\n",
        "                     index = inner_names, \n",
        "                     columns = inner_names)"
      ],
      "execution_count": 49,
      "outputs": []
    },
    {
      "cell_type": "code",
      "metadata": {
        "id": "q6dcO4EoWN9p",
        "colab_type": "code",
        "colab": {
          "base_uri": "https://localhost:8080/",
          "height": 599
        },
        "outputId": "9192ebab-08ef-428d-f3cd-a473c4d310b5"
      },
      "source": [
        "figure = plt.figure(figsize=(8, 8))\n",
        "sns.heatmap(con_mat_df, annot=True,cmap=plt.cm.Blues)\n",
        "plt.tight_layout()\n",
        "plt.ylabel('True label')\n",
        "plt.xlabel('Predicted label')\n",
        "plt.show()"
      ],
      "execution_count": 50,
      "outputs": [
        {
          "output_type": "display_data",
          "data": {
            "image/png": "[encoded data removed]",
            "text/plain": [
              "<Figure size 576x576 with 2 Axes>"
            ]
          },
          "metadata": {
            "tags": [],
            "needs_background": "light"
          }
        }
      ]
    },
    {
      "cell_type": "code",
      "metadata": {
        "id": "YONy_u-TWNNo",
        "colab_type": "code",
        "colab": {}
      },
      "source": [
        ""
      ],
      "execution_count": null,
      "outputs": []
    },
    {
      "cell_type": "markdown",
      "metadata": {
        "id": "vi1H0lKG5Zwa",
        "colab_type": "text"
      },
      "source": [
        "##### Saving Models "
      ]
    },
    {
      "cell_type": "code",
      "metadata": {
        "id": "VRS_qbo4wxtH",
        "colab_type": "code",
        "colab": {}
      },
      "source": [
        "model.save_weights('/content/drive/My Drive/data/model.h5')"
      ],
      "execution_count": 52,
      "outputs": []
    },
    {
      "cell_type": "code",
      "metadata": {
        "id": "AdPijabwyCre",
        "colab_type": "code",
        "colab": {}
      },
      "source": [
        "model.save('/content/drive/My Drive/data/loaded_model.h5')"
      ],
      "execution_count": 53,
      "outputs": []
    },
    {
      "cell_type": "code",
      "metadata": {
        "id": "wT2x4RZf10x-",
        "colab_type": "code",
        "colab": {}
      },
      "source": [
        "model_json = model.to_json()\n",
        "with open(\"/content/drive/My Drive/data/model.json\", \"w\") as json_file:\n",
        "    json_file.write(model_json)"
      ],
      "execution_count": 54,
      "outputs": []
    },
    {
      "cell_type": "code",
      "metadata": {
        "id": "f17rCMTznIsw",
        "colab_type": "code",
        "colab": {}
      },
      "source": [
        ""
      ],
      "execution_count": null,
      "outputs": []
    }
  ]
}